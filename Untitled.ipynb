{
 "cells": [
  {
   "cell_type": "code",
   "execution_count": 2,
   "metadata": {},
   "outputs": [
    {
     "name": "stderr",
     "output_type": "stream",
     "text": [
      "Using TensorFlow backend.\n",
      "/home/mlvm2/.local/lib/python3.5/site-packages/statsmodels/compat/pandas.py:56: FutureWarning: The pandas.core.datetools module is deprecated and will be removed in a future version. Please use the pandas.tseries module instead.\n",
      "  from pandas.core import datetools\n"
     ]
    }
   ],
   "source": [
    "from math import sqrt\n",
    "from numpy import concatenate\n",
    "from matplotlib import pyplot\n",
    "from pandas import read_csv\n",
    "from pandas import DataFrame\n",
    "from pandas import concat\n",
    "from sklearn.preprocessing import MinMaxScaler\n",
    "from sklearn.preprocessing import LabelEncoder\n",
    "from sklearn.metrics import mean_squared_error\n",
    "from keras.models import Sequential\n",
    "from keras.layers import Dense\n",
    "from keras.layers import LSTM\n",
    "\n",
    "import numpy as np # linear algebra\n",
    "import pandas as pd # data processing, CSV file I/O (e.g. pd.read_csv)\n",
    "import seaborn; seaborn.set()\n",
    "from sklearn.metrics import mean_squared_error\n",
    "import matplotlib.pylab as plt\n",
    "%matplotlib inline\n",
    "from matplotlib.pylab import rcParams\n",
    "rcParams['figure.figsize'] = 15,6\n",
    "from statsmodels.tsa.stattools import adfuller\n",
    "from statsmodels.tsa.seasonal import seasonal_decompose\n",
    "from statsmodels.tsa.stattools import acf, pacf\n",
    "from statsmodels.tsa.arima_model import ARIMA"
   ]
  },
  {
   "cell_type": "code",
   "execution_count": 3,
   "metadata": {},
   "outputs": [
    {
     "data": {
      "text/html": [
       "<div>\n",
       "<style scoped>\n",
       "    .dataframe tbody tr th:only-of-type {\n",
       "        vertical-align: middle;\n",
       "    }\n",
       "\n",
       "    .dataframe tbody tr th {\n",
       "        vertical-align: top;\n",
       "    }\n",
       "\n",
       "    .dataframe thead th {\n",
       "        text-align: right;\n",
       "    }\n",
       "</style>\n",
       "<table border=\"1\" class=\"dataframe\">\n",
       "  <thead>\n",
       "    <tr style=\"text-align: right;\">\n",
       "      <th></th>\n",
       "      <th>Close</th>\n",
       "      <th>Volume</th>\n",
       "      <th>Market Cap</th>\n",
       "      <th>Oil</th>\n",
       "      <th>Gold</th>\n",
       "      <th>ETH</th>\n",
       "      <th>Ripple</th>\n",
       "      <th>Bitcoin Cash</th>\n",
       "      <th>Litecoin</th>\n",
       "      <th>NEO</th>\n",
       "      <th>Cardano</th>\n",
       "      <th>Stellar</th>\n",
       "      <th>EOS</th>\n",
       "      <th>DASH</th>\n",
       "      <th>NEM</th>\n",
       "      <th>ETH Classic</th>\n",
       "      <th>Lisk</th>\n",
       "    </tr>\n",
       "    <tr>\n",
       "      <th>Date</th>\n",
       "      <th></th>\n",
       "      <th></th>\n",
       "      <th></th>\n",
       "      <th></th>\n",
       "      <th></th>\n",
       "      <th></th>\n",
       "      <th></th>\n",
       "      <th></th>\n",
       "      <th></th>\n",
       "      <th></th>\n",
       "      <th></th>\n",
       "      <th></th>\n",
       "      <th></th>\n",
       "      <th></th>\n",
       "      <th></th>\n",
       "      <th></th>\n",
       "      <th></th>\n",
       "    </tr>\n",
       "  </thead>\n",
       "  <tbody>\n",
       "    <tr>\n",
       "      <th>May 03, 2018</th>\n",
       "      <td>9743.86</td>\n",
       "      <td>10207300000</td>\n",
       "      <td>1.570000e+11</td>\n",
       "      <td>1313.30</td>\n",
       "      <td>68.43</td>\n",
       "      <td>779.54</td>\n",
       "      <td>0.884466</td>\n",
       "      <td>1511.97</td>\n",
       "      <td>161.46</td>\n",
       "      <td>87.82</td>\n",
       "      <td>0.369709</td>\n",
       "      <td>0.369709</td>\n",
       "      <td>17.77</td>\n",
       "      <td>503.32</td>\n",
       "      <td>0.434050</td>\n",
       "      <td>22.76</td>\n",
       "      <td>14.40</td>\n",
       "    </tr>\n",
       "    <tr>\n",
       "      <th>May 04, 2018</th>\n",
       "      <td>9700.76</td>\n",
       "      <td>8217830000</td>\n",
       "      <td>1.650000e+11</td>\n",
       "      <td>1309.35</td>\n",
       "      <td>69.72</td>\n",
       "      <td>785.62</td>\n",
       "      <td>0.895442</td>\n",
       "      <td>1517.33</td>\n",
       "      <td>168.79</td>\n",
       "      <td>84.26</td>\n",
       "      <td>0.360182</td>\n",
       "      <td>0.360182</td>\n",
       "      <td>17.15</td>\n",
       "      <td>486.32</td>\n",
       "      <td>0.431269</td>\n",
       "      <td>22.40</td>\n",
       "      <td>13.73</td>\n",
       "    </tr>\n",
       "    <tr>\n",
       "      <th>May 05, 2018</th>\n",
       "      <td>9858.15</td>\n",
       "      <td>7651940000</td>\n",
       "      <td>1.650000e+11</td>\n",
       "      <td>1309.35</td>\n",
       "      <td>69.72</td>\n",
       "      <td>816.12</td>\n",
       "      <td>0.905103</td>\n",
       "      <td>1752.10</td>\n",
       "      <td>177.76</td>\n",
       "      <td>84.36</td>\n",
       "      <td>0.366338</td>\n",
       "      <td>0.366338</td>\n",
       "      <td>17.80</td>\n",
       "      <td>505.72</td>\n",
       "      <td>0.426755</td>\n",
       "      <td>22.76</td>\n",
       "      <td>13.56</td>\n",
       "    </tr>\n",
       "    <tr>\n",
       "      <th>May 06, 2018</th>\n",
       "      <td>9654.80</td>\n",
       "      <td>7222280000</td>\n",
       "      <td>1.680000e+11</td>\n",
       "      <td>1309.35</td>\n",
       "      <td>69.72</td>\n",
       "      <td>792.31</td>\n",
       "      <td>0.871424</td>\n",
       "      <td>1765.69</td>\n",
       "      <td>171.80</td>\n",
       "      <td>83.56</td>\n",
       "      <td>0.350021</td>\n",
       "      <td>0.350021</td>\n",
       "      <td>17.47</td>\n",
       "      <td>485.22</td>\n",
       "      <td>0.418524</td>\n",
       "      <td>25.34</td>\n",
       "      <td>13.27</td>\n",
       "    </tr>\n",
       "    <tr>\n",
       "      <th>May 07, 2018</th>\n",
       "      <td>9373.01</td>\n",
       "      <td>7394020000</td>\n",
       "      <td>1.640000e+11</td>\n",
       "      <td>1309.35</td>\n",
       "      <td>70.73</td>\n",
       "      <td>753.73</td>\n",
       "      <td>0.832641</td>\n",
       "      <td>1655.20</td>\n",
       "      <td>164.88</td>\n",
       "      <td>79.29</td>\n",
       "      <td>0.335176</td>\n",
       "      <td>0.335176</td>\n",
       "      <td>17.98</td>\n",
       "      <td>457.99</td>\n",
       "      <td>0.390551</td>\n",
       "      <td>23.64</td>\n",
       "      <td>12.68</td>\n",
       "    </tr>\n",
       "  </tbody>\n",
       "</table>\n",
       "</div>"
      ],
      "text/plain": [
       "                Close       Volume    Market Cap      Oil   Gold     ETH  \\\n",
       "Date                                                                       \n",
       "May 03, 2018  9743.86  10207300000  1.570000e+11  1313.30  68.43  779.54   \n",
       "May 04, 2018  9700.76   8217830000  1.650000e+11  1309.35  69.72  785.62   \n",
       "May 05, 2018  9858.15   7651940000  1.650000e+11  1309.35  69.72  816.12   \n",
       "May 06, 2018  9654.80   7222280000  1.680000e+11  1309.35  69.72  792.31   \n",
       "May 07, 2018  9373.01   7394020000  1.640000e+11  1309.35  70.73  753.73   \n",
       "\n",
       "                Ripple  Bitcoin Cash  Litecoin    NEO   Cardano   Stellar  \\\n",
       "Date                                                                        \n",
       "May 03, 2018  0.884466       1511.97    161.46  87.82  0.369709  0.369709   \n",
       "May 04, 2018  0.895442       1517.33    168.79  84.26  0.360182  0.360182   \n",
       "May 05, 2018  0.905103       1752.10    177.76  84.36  0.366338  0.366338   \n",
       "May 06, 2018  0.871424       1765.69    171.80  83.56  0.350021  0.350021   \n",
       "May 07, 2018  0.832641       1655.20    164.88  79.29  0.335176  0.335176   \n",
       "\n",
       "                EOS    DASH       NEM  ETH Classic   Lisk  \n",
       "Date                                                       \n",
       "May 03, 2018  17.77  503.32  0.434050        22.76  14.40  \n",
       "May 04, 2018  17.15  486.32  0.431269        22.40  13.73  \n",
       "May 05, 2018  17.80  505.72  0.426755        22.76  13.56  \n",
       "May 06, 2018  17.47  485.22  0.418524        25.34  13.27  \n",
       "May 07, 2018  17.98  457.99  0.390551        23.64  12.68  "
      ]
     },
     "execution_count": 3,
     "metadata": {},
     "output_type": "execute_result"
    }
   ],
   "source": [
    "data = pd.read_csv('price_data_1.csv', index_col=\"Date\")\n",
    "\n",
    "data.tail()"
   ]
  },
  {
   "cell_type": "code",
   "execution_count": 4,
   "metadata": {},
   "outputs": [
    {
     "name": "stdout",
     "output_type": "stream",
     "text": [
      "DatetimeIndex(['2015-08-07', '2015-08-08', '2015-08-09', '2015-08-10',\n",
      "               '2015-08-11', '2015-08-12', '2015-08-13', '2015-08-14',\n",
      "               '2015-08-15', '2015-08-16',\n",
      "               ...\n",
      "               '2018-04-28', '2018-04-29', '2018-04-30', '2018-05-01',\n",
      "               '2018-05-02', '2018-05-03', '2018-05-04', '2018-05-05',\n",
      "               '2018-05-06', '2018-05-07'],\n",
      "              dtype='datetime64[ns]', name='Date', length=1005, freq=None)\n"
     ]
    },
    {
     "data": {
      "text/html": [
       "<div>\n",
       "<style scoped>\n",
       "    .dataframe tbody tr th:only-of-type {\n",
       "        vertical-align: middle;\n",
       "    }\n",
       "\n",
       "    .dataframe tbody tr th {\n",
       "        vertical-align: top;\n",
       "    }\n",
       "\n",
       "    .dataframe thead th {\n",
       "        text-align: right;\n",
       "    }\n",
       "</style>\n",
       "<table border=\"1\" class=\"dataframe\">\n",
       "  <thead>\n",
       "    <tr style=\"text-align: right;\">\n",
       "      <th></th>\n",
       "      <th>Close</th>\n",
       "      <th>Volume</th>\n",
       "      <th>Market Cap</th>\n",
       "      <th>Oil</th>\n",
       "      <th>Gold</th>\n",
       "      <th>ETH</th>\n",
       "      <th>Ripple</th>\n",
       "      <th>Bitcoin Cash</th>\n",
       "      <th>Litecoin</th>\n",
       "      <th>NEO</th>\n",
       "      <th>Cardano</th>\n",
       "      <th>Stellar</th>\n",
       "      <th>EOS</th>\n",
       "      <th>DASH</th>\n",
       "      <th>NEM</th>\n",
       "      <th>ETH Classic</th>\n",
       "      <th>Lisk</th>\n",
       "    </tr>\n",
       "    <tr>\n",
       "      <th>Date</th>\n",
       "      <th></th>\n",
       "      <th></th>\n",
       "      <th></th>\n",
       "      <th></th>\n",
       "      <th></th>\n",
       "      <th></th>\n",
       "      <th></th>\n",
       "      <th></th>\n",
       "      <th></th>\n",
       "      <th></th>\n",
       "      <th></th>\n",
       "      <th></th>\n",
       "      <th></th>\n",
       "      <th></th>\n",
       "      <th></th>\n",
       "      <th></th>\n",
       "      <th></th>\n",
       "    </tr>\n",
       "  </thead>\n",
       "  <tbody>\n",
       "    <tr>\n",
       "      <th>2015-08-07</th>\n",
       "      <td>279.59</td>\n",
       "      <td>42484800</td>\n",
       "      <td>4.032820e+09</td>\n",
       "      <td>47.12</td>\n",
       "      <td>1080.05</td>\n",
       "      <td>2.770000</td>\n",
       "      <td>0.008152</td>\n",
       "      <td>0.008152</td>\n",
       "      <td>4.21</td>\n",
       "      <td>4.21</td>\n",
       "      <td>4.21</td>\n",
       "      <td>0.002432</td>\n",
       "      <td>0.002432</td>\n",
       "      <td>3.26</td>\n",
       "      <td>0.000145</td>\n",
       "      <td>0.000145</td>\n",
       "      <td>1.0</td>\n",
       "    </tr>\n",
       "    <tr>\n",
       "      <th>2015-08-08</th>\n",
       "      <td>261.00</td>\n",
       "      <td>58533000</td>\n",
       "      <td>4.048270e+09</td>\n",
       "      <td>47.12</td>\n",
       "      <td>1080.05</td>\n",
       "      <td>0.753325</td>\n",
       "      <td>0.008476</td>\n",
       "      <td>0.008476</td>\n",
       "      <td>3.85</td>\n",
       "      <td>3.85</td>\n",
       "      <td>3.85</td>\n",
       "      <td>0.002419</td>\n",
       "      <td>0.002419</td>\n",
       "      <td>3.08</td>\n",
       "      <td>0.000136</td>\n",
       "      <td>0.000136</td>\n",
       "      <td>1.0</td>\n",
       "    </tr>\n",
       "    <tr>\n",
       "      <th>2015-08-09</th>\n",
       "      <td>265.08</td>\n",
       "      <td>23789600</td>\n",
       "      <td>3.779770e+09</td>\n",
       "      <td>47.12</td>\n",
       "      <td>1080.05</td>\n",
       "      <td>0.701897</td>\n",
       "      <td>0.008808</td>\n",
       "      <td>0.008808</td>\n",
       "      <td>3.90</td>\n",
       "      <td>3.90</td>\n",
       "      <td>3.90</td>\n",
       "      <td>0.002345</td>\n",
       "      <td>0.002345</td>\n",
       "      <td>3.11</td>\n",
       "      <td>0.000130</td>\n",
       "      <td>0.000130</td>\n",
       "      <td>1.0</td>\n",
       "    </tr>\n",
       "    <tr>\n",
       "      <th>2015-08-10</th>\n",
       "      <td>264.47</td>\n",
       "      <td>20979400</td>\n",
       "      <td>3.843850e+09</td>\n",
       "      <td>44.96</td>\n",
       "      <td>1094.80</td>\n",
       "      <td>0.708448</td>\n",
       "      <td>0.008750</td>\n",
       "      <td>0.008750</td>\n",
       "      <td>3.95</td>\n",
       "      <td>3.95</td>\n",
       "      <td>3.95</td>\n",
       "      <td>0.002466</td>\n",
       "      <td>0.002466</td>\n",
       "      <td>3.08</td>\n",
       "      <td>0.000135</td>\n",
       "      <td>0.000135</td>\n",
       "      <td>1.0</td>\n",
       "    </tr>\n",
       "    <tr>\n",
       "      <th>2015-08-11</th>\n",
       "      <td>270.39</td>\n",
       "      <td>25433900</td>\n",
       "      <td>3.828500e+09</td>\n",
       "      <td>43.08</td>\n",
       "      <td>1113.25</td>\n",
       "      <td>1.070000</td>\n",
       "      <td>0.008591</td>\n",
       "      <td>0.008591</td>\n",
       "      <td>4.16</td>\n",
       "      <td>4.16</td>\n",
       "      <td>4.16</td>\n",
       "      <td>0.002398</td>\n",
       "      <td>0.002398</td>\n",
       "      <td>3.16</td>\n",
       "      <td>0.000135</td>\n",
       "      <td>0.000135</td>\n",
       "      <td>1.0</td>\n",
       "    </tr>\n",
       "  </tbody>\n",
       "</table>\n",
       "</div>"
      ],
      "text/plain": [
       "             Close    Volume    Market Cap    Oil     Gold       ETH  \\\n",
       "Date                                                                   \n",
       "2015-08-07  279.59  42484800  4.032820e+09  47.12  1080.05  2.770000   \n",
       "2015-08-08  261.00  58533000  4.048270e+09  47.12  1080.05  0.753325   \n",
       "2015-08-09  265.08  23789600  3.779770e+09  47.12  1080.05  0.701897   \n",
       "2015-08-10  264.47  20979400  3.843850e+09  44.96  1094.80  0.708448   \n",
       "2015-08-11  270.39  25433900  3.828500e+09  43.08  1113.25  1.070000   \n",
       "\n",
       "              Ripple  Bitcoin Cash  Litecoin   NEO  Cardano   Stellar  \\\n",
       "Date                                                                    \n",
       "2015-08-07  0.008152      0.008152      4.21  4.21     4.21  0.002432   \n",
       "2015-08-08  0.008476      0.008476      3.85  3.85     3.85  0.002419   \n",
       "2015-08-09  0.008808      0.008808      3.90  3.90     3.90  0.002345   \n",
       "2015-08-10  0.008750      0.008750      3.95  3.95     3.95  0.002466   \n",
       "2015-08-11  0.008591      0.008591      4.16  4.16     4.16  0.002398   \n",
       "\n",
       "                 EOS  DASH       NEM  ETH Classic  Lisk  \n",
       "Date                                                     \n",
       "2015-08-07  0.002432  3.26  0.000145     0.000145   1.0  \n",
       "2015-08-08  0.002419  3.08  0.000136     0.000136   1.0  \n",
       "2015-08-09  0.002345  3.11  0.000130     0.000130   1.0  \n",
       "2015-08-10  0.002466  3.08  0.000135     0.000135   1.0  \n",
       "2015-08-11  0.002398  3.16  0.000135     0.000135   1.0  "
      ]
     },
     "execution_count": 4,
     "metadata": {},
     "output_type": "execute_result"
    }
   ],
   "source": [
    "#Tranform the date field\n",
    "\n",
    "data.index = pd.to_datetime(data.index)\n",
    "print(data.index)\n",
    "data.head(5)"
   ]
  },
  {
   "cell_type": "code",
   "execution_count": 5,
   "metadata": {},
   "outputs": [
    {
     "data": {
      "text/plain": [
       "Text(0,0.5,'Daily Bitcoin price')"
      ]
     },
     "execution_count": 5,
     "metadata": {},
     "output_type": "execute_result"
    },
    {
     "data": {
      "image/png": "[encoded data removed]",
      "text/plain": [
       "<matplotlib.figure.Figure at 0x7fac5e71cb38>"
      ]
     },
     "metadata": {},
     "output_type": "display_data"
    }
   ],
   "source": [
    "data['Close'].plot(figsize=(20,10))\n",
    "plt.ylabel(\"Daily Bitcoin price\")"
   ]
  },
  {
   "cell_type": "code",
   "execution_count": 6,
   "metadata": {},
   "outputs": [
    {
     "data": {
      "text/plain": [
       "Date\n",
       "1    AxesSubplot(0.125,0.2;0.775x0.68)\n",
       "2    AxesSubplot(0.125,0.2;0.775x0.68)\n",
       "3    AxesSubplot(0.125,0.2;0.775x0.68)\n",
       "4    AxesSubplot(0.125,0.2;0.775x0.68)\n",
       "Name: Close, dtype: object"
      ]
     },
     "execution_count": 6,
     "metadata": {},
     "output_type": "execute_result"
    },
    {
     "data": {
      "image/png": "[encoded data removed]",
      "text/plain": [
       "<matplotlib.figure.Figure at 0x7fac5c60f668>"
      ]
     },
     "metadata": {},
     "output_type": "display_data"
    }
   ],
   "source": [
    "data1 = data['Close']\n",
    "\n",
    "by_quarter = data1.groupby(data1.index.quarter)\n",
    "by_quarter.plot(figsize=(20,10))"
   ]
  },
  {
   "cell_type": "code",
   "execution_count": null,
   "metadata": {},
   "outputs": [],
   "source": [
    "\n"
   ]
  },
  {
   "cell_type": "code",
   "execution_count": 7,
   "metadata": {},
   "outputs": [],
   "source": [
    "# convert series to supervised learning\n",
    "def series_to_supervised(data, n_in=1, n_out=1, dropnan=True):\n",
    "\tn_vars = 1 if type(data) is list else data.shape[1]\n",
    "\tdf = DataFrame(data)\n",
    "\tcols, names = list(), list()\n",
    "\t# input sequence (t-n, ... t-1)\n",
    "\tfor i in range(n_in, 0, -1):\n",
    "\t\tcols.append(df.shift(i))\n",
    "\t\tnames += [('var%d(t-%d)' % (j+1, i)) for j in range(n_vars)]\n",
    "\t# forecast sequence (t, t+1, ... t+n)\n",
    "\tfor i in range(0, n_out):\n",
    "\t\tcols.append(df.shift(-i))\n",
    "\t\tif i == 0:\n",
    "\t\t\tnames += [('var%d(t)' % (j+1)) for j in range(n_vars)]\n",
    "\t\telse:\n",
    "\t\t\tnames += [('var%d(t+%d)' % (j+1, i)) for j in range(n_vars)]\n",
    "\t# put it all together\n",
    "\tagg = concat(cols, axis=1)\n",
    "\tagg.columns = names\n",
    "\t# drop rows with NaN values\n",
    "\tif dropnan:\n",
    "\t\tagg.dropna(inplace=True)\n",
    "\treturn agg"
   ]
  },
  {
   "cell_type": "code",
   "execution_count": 8,
   "metadata": {},
   "outputs": [
    {
     "name": "stdout",
     "output_type": "stream",
     "text": [
      "   var1(t-1)  var2(t-1)  var3(t-1)   var1(t)\n",
      "1   0.003582   0.001249   0.003033  0.002618\n",
      "2   0.002618   0.001923   0.003081  0.002830\n",
      "3   0.002830   0.000465   0.002250  0.002798\n",
      "4   0.002798   0.000347   0.002448  0.003105\n",
      "5   0.003105   0.000534   0.002401  0.002897\n"
     ]
    }
   ],
   "source": [
    "# load dataset\n",
    "dataset1 = data[['Close','Volume','Market Cap']]\n",
    "values = dataset1.values\n",
    "# normalize features\n",
    "scaler = MinMaxScaler(feature_range=(0, 1))\n",
    "scaled = scaler.fit_transform(values)\n",
    "# frame as supervised learning\n",
    "reframed = series_to_supervised(scaled, 1, 1)\n",
    "# drop columns we don't want to predict\n",
    "reframed.drop(reframed.columns[[4,5]], axis=1, inplace=True)\n",
    "print(reframed.head())"
   ]
  },
  {
   "cell_type": "code",
   "execution_count": 9,
   "metadata": {},
   "outputs": [
    {
     "name": "stdout",
     "output_type": "stream",
     "text": [
      "(502, 1, 3) (502,) (502, 1, 3) (502,)\n"
     ]
    }
   ],
   "source": [
    "# split into train and test sets\n",
    "values = reframed.values\n",
    "n_train_hours = int(len(values)*0.5)\n",
    "train = values[:n_train_hours, :]\n",
    "test = values[n_train_hours:, :]\n",
    "# split into input and outputs\n",
    "train_X, train_y = train[:, :-1], train[:, -1]\n",
    "test_X, test_y = test[:, :-1], test[:, -1]\n",
    "# reshape input to be 3D [samples, timesteps, features]\n",
    "train_X = train_X.reshape((train_X.shape[0], 1, train_X.shape[1]))\n",
    "test_X = test_X.reshape((test_X.shape[0], 1, test_X.shape[1]))\n",
    "print(train_X.shape, train_y.shape, test_X.shape, test_y.shape)"
   ]
  },
  {
   "cell_type": "code",
   "execution_count": 10,
   "metadata": {},
   "outputs": [
    {
     "name": "stdout",
     "output_type": "stream",
     "text": [
      "Train on 502 samples, validate on 502 samples\n",
      "Epoch 1/50\n",
      " - 1s - loss: 0.0042 - val_loss: 0.2202\n",
      "Epoch 2/50\n",
      " - 0s - loss: 0.0094 - val_loss: 0.2091\n",
      "Epoch 3/50\n",
      " - 0s - loss: 0.0069 - val_loss: 0.2008\n",
      "Epoch 4/50\n",
      " - 0s - loss: 0.0055 - val_loss: 0.1827\n",
      "Epoch 5/50\n",
      " - 0s - loss: 0.0079 - val_loss: 0.1743\n",
      "Epoch 6/50\n",
      " - 0s - loss: 0.0062 - val_loss: 0.1685\n",
      "Epoch 7/50\n",
      " - 0s - loss: 0.0050 - val_loss: 0.1520\n",
      "Epoch 8/50\n",
      " - 0s - loss: 0.0068 - val_loss: 0.1490\n",
      "Epoch 9/50\n",
      " - 0s - loss: 0.0048 - val_loss: 0.1324\n",
      "Epoch 10/50\n",
      " - 0s - loss: 0.0060 - val_loss: 0.1306\n",
      "Epoch 11/50\n",
      " - 0s - loss: 0.0043 - val_loss: 0.1072\n",
      "Epoch 12/50\n",
      " - 0s - loss: 0.0063 - val_loss: 0.1099\n",
      "Epoch 13/50\n",
      " - 0s - loss: 0.0040 - val_loss: 0.0878\n",
      "Epoch 14/50\n",
      " - 0s - loss: 0.0042 - val_loss: 0.0622\n",
      "Epoch 15/50\n",
      " - 0s - loss: 0.0048 - val_loss: 0.0501\n",
      "Epoch 16/50\n",
      " - 0s - loss: 0.0044 - val_loss: 0.0403\n",
      "Epoch 17/50\n",
      " - 0s - loss: 0.0035 - val_loss: 0.0285\n",
      "Epoch 18/50\n",
      " - 0s - loss: 0.0035 - val_loss: 0.0263\n",
      "Epoch 19/50\n",
      " - 0s - loss: 0.0030 - val_loss: 0.0365\n",
      "Epoch 20/50\n",
      " - 0s - loss: 0.0023 - val_loss: 0.0442\n",
      "Epoch 21/50\n",
      " - 0s - loss: 0.0016 - val_loss: 0.0311\n",
      "Epoch 22/50\n",
      " - 0s - loss: 0.0019 - val_loss: 0.0278\n",
      "Epoch 23/50\n",
      " - 0s - loss: 0.0020 - val_loss: 0.0260\n",
      "Epoch 24/50\n",
      " - 0s - loss: 0.0024 - val_loss: 0.0308\n",
      "Epoch 25/50\n",
      " - 0s - loss: 0.0024 - val_loss: 0.0451\n",
      "Epoch 26/50\n",
      " - 0s - loss: 0.0014 - val_loss: 0.0321\n",
      "Epoch 27/50\n",
      " - 0s - loss: 0.0017 - val_loss: 0.0314\n",
      "Epoch 28/50\n",
      " - 0s - loss: 0.0016 - val_loss: 0.0250\n",
      "Epoch 29/50\n",
      " - 0s - loss: 0.0018 - val_loss: 0.0226\n",
      "Epoch 30/50\n",
      " - 1s - loss: 0.0023 - val_loss: 0.0270\n",
      "Epoch 31/50\n",
      " - 1s - loss: 0.0023 - val_loss: 0.0412\n",
      "Epoch 32/50\n",
      " - 0s - loss: 9.0985e-04 - val_loss: 0.0357\n",
      "Epoch 33/50\n",
      " - 0s - loss: 0.0014 - val_loss: 0.0315\n",
      "Epoch 34/50\n",
      " - 0s - loss: 0.0015 - val_loss: 0.0306\n",
      "Epoch 35/50\n",
      " - 1s - loss: 0.0013 - val_loss: 0.0268\n",
      "Epoch 36/50\n",
      " - 1s - loss: 0.0016 - val_loss: 0.0243\n",
      "Epoch 37/50\n",
      " - 0s - loss: 0.0017 - val_loss: 0.0198\n",
      "Epoch 38/50\n",
      " - 0s - loss: 0.0017 - val_loss: 0.0189\n",
      "Epoch 39/50\n",
      " - 0s - loss: 0.0016 - val_loss: 0.0186\n",
      "Epoch 40/50\n",
      " - 0s - loss: 0.0018 - val_loss: 0.0184\n",
      "Epoch 41/50\n",
      " - 0s - loss: 0.0019 - val_loss: 0.0179\n",
      "Epoch 42/50\n",
      " - 0s - loss: 0.0017 - val_loss: 0.0174\n",
      "Epoch 43/50\n",
      " - 0s - loss: 0.0017 - val_loss: 0.0177\n",
      "Epoch 44/50\n",
      " - 0s - loss: 0.0017 - val_loss: 0.0183\n",
      "Epoch 45/50\n",
      " - 0s - loss: 0.0018 - val_loss: 0.0183\n",
      "Epoch 46/50\n",
      " - 0s - loss: 0.0018 - val_loss: 0.0178\n",
      "Epoch 47/50\n",
      " - 0s - loss: 0.0017 - val_loss: 0.0187\n",
      "Epoch 48/50\n",
      " - 0s - loss: 0.0016 - val_loss: 0.0193\n",
      "Epoch 49/50\n",
      " - 0s - loss: 0.0017 - val_loss: 0.0200\n",
      "Epoch 50/50\n",
      " - 0s - loss: 0.0017 - val_loss: 0.0215\n"
     ]
    },
    {
     "data": {
      "image/png": "[encoded data removed]",
      "text/plain": [
       "<matplotlib.figure.Figure at 0x7fac5c394048>"
      ]
     },
     "metadata": {},
     "output_type": "display_data"
    }
   ],
   "source": [
    "# design network\n",
    "model = Sequential()\n",
    "model.add(LSTM(50, input_shape=(train_X.shape[1], train_X.shape[2])))\n",
    "model.add(Dense(1))\n",
    "model.compile(loss='mae', optimizer='adam')\n",
    "# fit network\n",
    "history = model.fit(train_X, train_y, epochs=50, batch_size=10, validation_data=(test_X, test_y), verbose=2, shuffle=False)\n",
    "# plot history\n",
    "pyplot.plot(history.history['loss'], label='train')\n",
    "pyplot.plot(history.history['val_loss'], label='test')\n",
    "pyplot.legend()\n",
    "pyplot.show()"
   ]
  },
  {
   "cell_type": "code",
   "execution_count": 11,
   "metadata": {},
   "outputs": [],
   "source": [
    "# make a prediction\n",
    "yhat = model.predict(test_X)\n",
    "test_X = test_X.reshape((test_X.shape[0], test_X.shape[2]))\n",
    "# invert scaling for forecast\n",
    "inv_yhat = concatenate((yhat, test_X[:, 1:]), axis=1)\n",
    "inv_yhat = scaler.inverse_transform(inv_yhat)\n",
    "inv_yhat = inv_yhat[:,0]\n",
    "# invert scaling for actual\n",
    "test_y = test_y.reshape((len(test_y), 1))\n",
    "inv_y = concatenate((test_y, test_X[:, 1:]), axis=1)\n",
    "inv_y = scaler.inverse_transform(inv_y)\n",
    "inv_y = inv_y[:,0]"
   ]
  },
  {
   "cell_type": "code",
   "execution_count": 12,
   "metadata": {},
   "outputs": [
    {
     "data": {
      "image/png": "[encoded data removed]",
      "text/plain": [
       "<matplotlib.figure.Figure at 0x7fac5c1ed630>"
      ]
     },
     "metadata": {},
     "output_type": "display_data"
    }
   ],
   "source": [
    "#Plotting the prediction\n",
    "pyplot.plot(inv_yhat, label='predict')\n",
    "pyplot.plot(inv_y, label='true')\n",
    "pyplot.legend()\n",
    "pyplot.show()"
   ]
  },
  {
   "cell_type": "code",
   "execution_count": 14,
   "metadata": {},
   "outputs": [
    {
     "name": "stdout",
     "output_type": "stream",
     "text": [
      "Test RMSE: 720.337\n"
     ]
    }
   ],
   "source": [
    "# calculate RMSE\n",
    "rmse = sqrt(mean_squared_error(inv_y, inv_yhat))\n",
    "print('Test RMSE: %.3f' % rmse)"
   ]
  },
  {
   "cell_type": "code",
   "execution_count": 17,
   "metadata": {},
   "outputs": [
    {
     "data": {
      "text/plain": [
       "9283.37170535028"
      ]
     },
     "execution_count": 17,
     "metadata": {},
     "output_type": "execute_result"
    }
   ],
   "source": [
    "inv_yhat[501]"
   ]
  },
  {
   "cell_type": "code",
   "execution_count": 43,
   "metadata": {},
   "outputs": [
    {
     "name": "stdout",
     "output_type": "stream",
     "text": [
      "   var1(t-1)  var2(t-1)  var3(t-1)  var4(t-1)  var5(t-1)  var6(t-1)  \\\n",
      "1   0.014340   0.001782   0.012371   0.034683   0.794008   0.001984   \n",
      "2   0.013386   0.002455   0.012418   0.034683   0.794008   0.000539   \n",
      "3   0.013596   0.000998   0.011594   0.034683   0.794008   0.000503   \n",
      "4   0.013564   0.000880   0.011791   0.033093   0.804852   0.000507   \n",
      "5   0.013868   0.001067   0.011744   0.031709   0.818416   0.000766   \n",
      "\n",
      "   var7(t-1)  var8(t-1)  var9(t-1)  var10(t-1)  var11(t-1)  var12(t-1)  \\\n",
      "1   0.002412   0.000002   0.011749    0.022464    0.088650    0.002714   \n",
      "2   0.002508   0.000002   0.010744    0.020543    0.081070    0.002699   \n",
      "3   0.002606   0.000002   0.010884    0.020810    0.082123    0.002617   \n",
      "4   0.002589   0.000002   0.011023    0.021077    0.083175    0.002752   \n",
      "5   0.002542   0.000002   0.011609    0.022197    0.087597    0.002676   \n",
      "\n",
      "   var13(t-1)  var14(t-1)  var15(t-1)  var16(t-1)  var17(t-1)   var1(t)  \n",
      "1    0.000113    0.002102    0.000079    0.000003    0.029317  0.013386  \n",
      "2    0.000112    0.001986    0.000074    0.000003    0.029317  0.013596  \n",
      "3    0.000109    0.002005    0.000071    0.000003    0.029317  0.013564  \n",
      "4    0.000114    0.001986    0.000073    0.000003    0.029317  0.013868  \n",
      "5    0.000111    0.002038    0.000073    0.000003    0.029317  0.013662  \n"
     ]
    }
   ],
   "source": [
    "# load dataset\n",
    "values = data.values\n",
    "# normalize features\n",
    "scaler = MinMaxScaler(feature_range=(0, 1))\n",
    "scaled = scaler.fit_transform(values)\n",
    "# frame as supervised learning\n",
    "reframed = series_to_supervised(scaled, 1, 1)\n",
    "# drop columns we don't want to predict\n",
    "reframed.drop(reframed.columns[[18,19,20,21,22,23,24,25,26,27,28,29,30,31,32,33]], axis=1, inplace=True)\n",
    "print(reframed.head())"
   ]
  },
  {
   "cell_type": "code",
   "execution_count": 44,
   "metadata": {},
   "outputs": [
    {
     "name": "stdout",
     "output_type": "stream",
     "text": [
      "(1004, 1, 17) (1004,) (1, 1, 17) (1,)\n"
     ]
    }
   ],
   "source": [
    "# split into train and test sets\n",
    "values = reframed.values\n",
    "n_train_hours = 1004\n",
    "train = values[:n_train_hours, :]\n",
    "test = values[n_train_hours:, :]\n",
    "# split into input and outputs\n",
    "train_X, train_y = train[:, :-1], train[:, -1]\n",
    "test_X, test_y = test[:, :-1], test[:, -1]\n",
    "# reshape input to be 3D [samples, timesteps, features]\n",
    "train_X = train_X.reshape((train_X.shape[0], 1, train_X.shape[1]))\n",
    "test_X = test_X.reshape((test_X.shape[0], 1, test_X.shape[1]))\n",
    "print(train_X.shape, train_y.shape, test_X.shape, test_y.shape)"
   ]
  },
  {
   "cell_type": "code",
   "execution_count": 45,
   "metadata": {},
   "outputs": [
    {
     "name": "stdout",
     "output_type": "stream",
     "text": [
      "Train on 1004 samples, validate on 1 samples\n",
      "Epoch 1/50\n",
      " - 0s - loss: 0.0987 - val_loss: 0.2293\n",
      "Epoch 2/50\n",
      " - 0s - loss: 0.0930 - val_loss: 0.3607\n",
      "Epoch 3/50\n",
      " - 0s - loss: 0.0623 - val_loss: 0.4770\n",
      "Epoch 4/50\n",
      " - 0s - loss: 0.0368 - val_loss: 0.5815\n",
      "Epoch 5/50\n",
      " - 0s - loss: 0.0305 - val_loss: 0.5677\n",
      "Epoch 6/50\n",
      " - 0s - loss: 0.0292 - val_loss: 0.5392\n",
      "Epoch 7/50\n",
      " - 0s - loss: 0.0266 - val_loss: 0.5425\n",
      "Epoch 8/50\n",
      " - 0s - loss: 0.0261 - val_loss: 0.5348\n",
      "Epoch 9/50\n",
      " - 0s - loss: 0.0244 - val_loss: 0.5307\n",
      "Epoch 10/50\n",
      " - 0s - loss: 0.0237 - val_loss: 0.5253\n",
      "Epoch 11/50\n",
      " - 0s - loss: 0.0219 - val_loss: 0.5226\n",
      "Epoch 12/50\n",
      " - 0s - loss: 0.0224 - val_loss: 0.5179\n",
      "Epoch 13/50\n",
      " - 0s - loss: 0.0206 - val_loss: 0.5271\n",
      "Epoch 14/50\n",
      " - 0s - loss: 0.0217 - val_loss: 0.4998\n",
      "Epoch 15/50\n",
      " - 0s - loss: 0.0243 - val_loss: 0.5369\n",
      "Epoch 16/50\n",
      " - 0s - loss: 0.0187 - val_loss: 0.4930\n",
      "Epoch 17/50\n",
      " - 0s - loss: 0.0268 - val_loss: 0.5142\n",
      "Epoch 18/50\n",
      " - 0s - loss: 0.0178 - val_loss: 0.5053\n",
      "Epoch 19/50\n",
      " - 0s - loss: 0.0226 - val_loss: 0.5067\n",
      "Epoch 20/50\n",
      " - 0s - loss: 0.0178 - val_loss: 0.5230\n",
      "Epoch 21/50\n",
      " - 0s - loss: 0.0248 - val_loss: 0.4733\n",
      "Epoch 22/50\n",
      " - 0s - loss: 0.0243 - val_loss: 0.5398\n",
      "Epoch 23/50\n",
      " - 0s - loss: 0.0222 - val_loss: 0.4932\n",
      "Epoch 24/50\n",
      " - 0s - loss: 0.0241 - val_loss: 0.5054\n",
      "Epoch 25/50\n",
      " - 0s - loss: 0.0181 - val_loss: 0.4986\n",
      "Epoch 26/50\n",
      " - 0s - loss: 0.0215 - val_loss: 0.5029\n",
      "Epoch 27/50\n",
      " - 0s - loss: 0.0168 - val_loss: 0.5024\n",
      "Epoch 28/50\n",
      " - 0s - loss: 0.0243 - val_loss: 0.4764\n",
      "Epoch 29/50\n",
      " - 0s - loss: 0.0218 - val_loss: 0.5498\n",
      "Epoch 30/50\n",
      " - 0s - loss: 0.0161 - val_loss: 0.4791\n",
      "Epoch 31/50\n",
      " - 0s - loss: 0.0224 - val_loss: 0.5076\n",
      "Epoch 32/50\n",
      " - 0s - loss: 0.0184 - val_loss: 0.4986\n",
      "Epoch 33/50\n",
      " - 0s - loss: 0.0200 - val_loss: 0.4979\n",
      "Epoch 34/50\n",
      " - 0s - loss: 0.0164 - val_loss: 0.5073\n",
      "Epoch 35/50\n",
      " - 0s - loss: 0.0228 - val_loss: 0.4656\n",
      "Epoch 36/50\n",
      " - 0s - loss: 0.0209 - val_loss: 0.5231\n",
      "Epoch 37/50\n",
      " - 0s - loss: 0.0244 - val_loss: 0.4853\n",
      "Epoch 38/50\n",
      " - 0s - loss: 0.0235 - val_loss: 0.5037\n",
      "Epoch 39/50\n",
      " - 0s - loss: 0.0222 - val_loss: 0.4842\n",
      "Epoch 40/50\n",
      " - 0s - loss: 0.0233 - val_loss: 0.5043\n",
      "Epoch 41/50\n",
      " - 0s - loss: 0.0227 - val_loss: 0.4850\n",
      "Epoch 42/50\n",
      " - 0s - loss: 0.0228 - val_loss: 0.5038\n",
      "Epoch 43/50\n",
      " - 0s - loss: 0.0220 - val_loss: 0.4854\n",
      "Epoch 44/50\n",
      " - 0s - loss: 0.0219 - val_loss: 0.5015\n",
      "Epoch 45/50\n",
      " - 0s - loss: 0.0218 - val_loss: 0.4850\n",
      "Epoch 46/50\n",
      " - 0s - loss: 0.0219 - val_loss: 0.5013\n",
      "Epoch 47/50\n",
      " - 0s - loss: 0.0214 - val_loss: 0.4855\n",
      "Epoch 48/50\n",
      " - 0s - loss: 0.0217 - val_loss: 0.5003\n",
      "Epoch 49/50\n",
      " - 0s - loss: 0.0215 - val_loss: 0.4844\n",
      "Epoch 50/50\n",
      " - 0s - loss: 0.0217 - val_loss: 0.5005\n"
     ]
    },
    {
     "data": {
      "image/png": "[encoded data removed]",
      "text/plain": [
       "<matplotlib.figure.Figure at 0x7f5a33e2bf98>"
      ]
     },
     "metadata": {},
     "output_type": "display_data"
    }
   ],
   "source": [
    "# design network\n",
    "model = Sequential()\n",
    "model.add(LSTM(50, input_shape=(train_X.shape[1], train_X.shape[2])))\n",
    "model.add(Dense(1))\n",
    "model.compile(loss='mae', optimizer='adam')\n",
    "# fit network\n",
    "history = model.fit(train_X, train_y, epochs=50, batch_size=60, validation_data=(test_X, test_y), verbose=2, shuffle=False)\n",
    "# plot history\n",
    "pyplot.plot(history.history['loss'], label='train')\n",
    "pyplot.plot(history.history['val_loss'], label='test')\n",
    "pyplot.legend()\n",
    "pyplot.show()"
   ]
  },
  {
   "cell_type": "code",
   "execution_count": 46,
   "metadata": {},
   "outputs": [],
   "source": [
    "# make a prediction\n",
    "yhat = model.predict(test_X)\n",
    "test_X = test_X.reshape((test_X.shape[0], test_X.shape[2]))\n",
    "# invert scaling for forecast\n",
    "inv_yhat = concatenate((yhat, test_X[:, 1:]), axis=1)\n",
    "inv_yhat = scaler.inverse_transform(inv_yhat)\n",
    "inv_yhat = inv_yhat[:,0]\n",
    "# invert scaling for actual\n",
    "test_y = test_y.reshape((len(test_y), 1))\n",
    "inv_y = concatenate((test_y, test_X[:, 1:]), axis=1)\n",
    "inv_y = scaler.inverse_transform(inv_y)\n",
    "inv_y = inv_y[:,0]"
   ]
  },
  {
   "cell_type": "code",
   "execution_count": 47,
   "metadata": {},
   "outputs": [
    {
     "data": {
      "image/png": "[encoded data removed]",
      "text/plain": [
       "<matplotlib.figure.Figure at 0x7f5a380441d0>"
      ]
     },
     "metadata": {},
     "output_type": "display_data"
    }
   ],
   "source": [
    "#Plotting the prediction\n",
    "pyplot.plot(inv_yhat, label='predict')\n",
    "pyplot.plot(inv_y, label='true')\n",
    "pyplot.legend()\n",
    "pyplot.show()"
   ]
  },
  {
   "cell_type": "code",
   "execution_count": 48,
   "metadata": {},
   "outputs": [
    {
     "name": "stdout",
     "output_type": "stream",
     "text": [
      "Test RMSE: 9759.245\n"
     ]
    }
   ],
   "source": [
    "# calculate RMSE\n",
    "rmse = sqrt(mean_squared_error(inv_y, inv_yhat))\n",
    "print('Test RMSE: %.3f' % rmse)"
   ]
  },
  {
   "cell_type": "code",
   "execution_count": 116,
   "metadata": {},
   "outputs": [
    {
     "data": {
      "text/plain": [
       "Index(['Jan 02, 2018', 'Jan 03, 2018', 'Jan 04, 2018', 'Jan 05, 2018',\n",
       "       'Jan 06, 2018', 'Jan 07, 2018', 'Jan 08, 2018', 'Jan 09, 2018',\n",
       "       'Jan 10, 2018', 'Jan 11, 2018', 'Jan 12, 2018', 'Jan 13, 2018',\n",
       "       'Jan 14, 2018', 'Jan 15, 2018', 'Jan 16, 2018', 'Jan 17, 2018',\n",
       "       'Jan 18, 2018', 'Jan 19, 2018', 'Jan 20, 2018', 'Jan 21, 2018',\n",
       "       'Jan 22, 2018', 'Jan 23, 2018', 'Jan 24, 2018', 'Jan 25, 2018',\n",
       "       'Jan 26, 2018', 'Jan 27, 2018', 'Jan 28, 2018'],\n",
       "      dtype='object', name='Date')"
      ]
     },
     "execution_count": 116,
     "metadata": {},
     "output_type": "execute_result"
    }
   ],
   "source": [
    "predictDates = dataset.tail(len(test_X)).index\n",
    "\n",
    "testY_reshape = inv_y.reshape(len(inv_y))\n",
    "yhat_reshape = inv_yhat.reshape(len(inv_yhat))\n"
   ]
  },
  {
   "cell_type": "code",
   "execution_count": 127,
   "metadata": {},
   "outputs": [
    {
     "data": {
      "application/vnd.plotly.v1+json": {
       "data": [
        {
         "name": "Predict Price",
         "type": "scatter",
         "x": [
          "Jan 02, 2018",
          "Jan 03, 2018",
          "Jan 04, 2018",
          "Jan 05, 2018",
          "Jan 06, 2018",
          "Jan 07, 2018",
          "Jan 08, 2018",
          "Jan 09, 2018",
          "Jan 10, 2018",
          "Jan 11, 2018",
          "Jan 12, 2018",
          "Jan 13, 2018",
          "Jan 14, 2018",
          "Jan 15, 2018",
          "Jan 16, 2018",
          "Jan 17, 2018",
          "Jan 18, 2018",
          "Jan 19, 2018",
          "Jan 20, 2018",
          "Jan 21, 2018",
          "Jan 22, 2018",
          "Jan 23, 2018",
          "Jan 24, 2018",
          "Jan 25, 2018",
          "Jan 26, 2018",
          "Jan 27, 2018",
          "Jan 28, 2018"
         ],
         "y": [
          13331.810263895992,
          14413.297445321086,
          14494.125035488609,
          14738.195388156179,
          15290.754452794794,
          15589.288875144723,
          15158.194215989115,
          15114.82367845178,
          15296.71162207723,
          15656.455901324753,
          14814.9557330668,
          14786.479268324378,
          15366.495112419132,
          15525.284367817643,
          15614.927005082372,
          14515.938483411077,
          13873.044729036095,
          13618.664863801005,
          13415.437102848295,
          14215.287668037417,
          13562.705179059509,
          12948.93280875683,
          12716.376737743618,
          13207.928273117544,
          13302.319861811402,
          13339.519406545165,
          13319.718888652327
         ]
        },
        {
         "name": "Actual Price",
         "type": "scatter",
         "x": [
          "Jan 02, 2018",
          "Jan 03, 2018",
          "Jan 04, 2018",
          "Jan 05, 2018",
          "Jan 06, 2018",
          "Jan 07, 2018",
          "Jan 08, 2018",
          "Jan 09, 2018",
          "Jan 10, 2018",
          "Jan 11, 2018",
          "Jan 12, 2018",
          "Jan 13, 2018",
          "Jan 14, 2018",
          "Jan 15, 2018",
          "Jan 16, 2018",
          "Jan 17, 2018",
          "Jan 18, 2018",
          "Jan 19, 2018",
          "Jan 20, 2018",
          "Jan 21, 2018",
          "Jan 22, 2018",
          "Jan 23, 2018",
          "Jan 24, 2018",
          "Jan 25, 2018",
          "Jan 26, 2018",
          "Jan 27, 2018",
          "Jan 28, 2018"
         ],
         "y": [
          14982.1,
          15201,
          15599.2,
          17429.5,
          17527,
          16477.6,
          15170.1,
          14595.4,
          14973.3,
          13405.8,
          13980.6,
          14360.2,
          13772,
          13819.8,
          11490.5,
          11188.6,
          11474.9,
          11607.4,
          12899.2,
          11600.1,
          10931.4,
          10868.400000000001,
          11359.4,
          11259.4,
          11171.4,
          11440.7,
          11786.3
         ]
        }
       ],
       "layout": {}
      }
     },
     "metadata": {},
     "output_type": "display_data"
    }
   ],
   "source": [
    "import plotly.graph_objs as go\n",
    "from plotly.offline import iplot\n",
    "\n",
    "actual_chart = go.Scatter(x=predictDates, y=testY_reshape, name= 'Actual Price')\n",
    "predict_chart = go.Scatter(x=predictDates, y=yhat_reshape, name= 'Predict Price')\n",
    "iplot([predict_chart, actual_chart])"
   ]
  },
  {
   "cell_type": "code",
   "execution_count": 125,
   "metadata": {},
   "outputs": [
    {
     "data": {
      "application/vnd.plotly.v1+json": {
       "data": [
        {
         "name": "Predict Price",
         "type": "scatter",
         "x": [
          "Jan 02, 2018",
          "Jan 03, 2018",
          "Jan 04, 2018",
          "Jan 05, 2018",
          "Jan 06, 2018",
          "Jan 07, 2018",
          "Jan 08, 2018",
          "Jan 09, 2018",
          "Jan 10, 2018",
          "Jan 11, 2018",
          "Jan 12, 2018",
          "Jan 13, 2018",
          "Jan 14, 2018",
          "Jan 15, 2018",
          "Jan 16, 2018",
          "Jan 17, 2018",
          "Jan 18, 2018",
          "Jan 19, 2018",
          "Jan 20, 2018",
          "Jan 21, 2018",
          "Jan 22, 2018",
          "Jan 23, 2018",
          "Jan 24, 2018",
          "Jan 25, 2018",
          "Jan 26, 2018",
          "Jan 27, 2018",
          "Jan 28, 2018"
         ],
         "y": [
          13331.810263895992,
          14413.297445321086,
          14494.125035488609,
          14738.195388156179,
          15290.754452794794,
          15589.288875144723,
          15158.194215989115,
          15114.82367845178,
          15296.71162207723,
          15656.455901324753,
          14814.9557330668,
          14786.479268324378,
          15366.495112419132,
          15525.284367817643,
          15614.927005082372,
          14515.938483411077,
          13873.044729036095,
          13618.664863801005,
          13415.437102848295,
          14215.287668037417,
          13562.705179059509,
          12948.93280875683,
          12716.376737743618,
          13207.928273117544,
          13302.319861811402,
          13339.519406545165,
          13319.718888652327
         ]
        },
        {
         "name": "Actual Price",
         "type": "scatter",
         "x": [
          "Jan 02, 2018",
          "Jan 03, 2018",
          "Jan 04, 2018",
          "Jan 05, 2018",
          "Jan 06, 2018",
          "Jan 07, 2018",
          "Jan 08, 2018",
          "Jan 09, 2018",
          "Jan 10, 2018",
          "Jan 11, 2018",
          "Jan 12, 2018",
          "Jan 13, 2018",
          "Jan 14, 2018",
          "Jan 15, 2018",
          "Jan 16, 2018",
          "Jan 17, 2018",
          "Jan 18, 2018",
          "Jan 19, 2018",
          "Jan 20, 2018",
          "Jan 21, 2018",
          "Jan 22, 2018",
          "Jan 23, 2018",
          "Jan 24, 2018",
          "Jan 25, 2018",
          "Jan 26, 2018",
          "Jan 27, 2018",
          "Jan 28, 2018"
         ],
         "y": [
          14982.1,
          15201,
          15599.2,
          17429.5,
          17527,
          16477.6,
          15170.1,
          14595.4,
          14973.3,
          13405.8,
          13980.6,
          14360.2,
          13772,
          13819.8,
          11490.5,
          11188.6,
          11474.9,
          11607.4,
          12899.2,
          11600.1,
          10931.4,
          10868.400000000001,
          11359.4,
          11259.4,
          11171.4,
          11440.7,
          11786.3
         ]
        }
       ],
       "layout": {}
      }
     },
     "metadata": {},
     "output_type": "display_data"
    }
   ],
   "source": []
  },
  {
   "cell_type": "code",
   "execution_count": 126,
   "metadata": {},
   "outputs": [
    {
     "data": {
      "application/vnd.plotly.v1+json": {
       "data": [
        {
         "x": [
          1,
          2,
          3
         ],
         "y": [
          3,
          1,
          6
         ]
        }
       ],
       "layout": {}
      }
     },
     "metadata": {},
     "output_type": "display_data"
    }
   ],
   "source": []
  },
  {
   "cell_type": "code",
   "execution_count": null,
   "metadata": {},
   "outputs": [],
   "source": []
  }
 ],
 "metadata": {
  "kernelspec": {
   "display_name": "Python 3",
   "language": "python",
   "name": "python3"
  },
  "language_info": {
   "codemirror_mode": {
    "name": "ipython",
    "version": 3
   },
   "file_extension": ".py",
   "mimetype": "text/x-python",
   "name": "python",
   "nbconvert_exporter": "python",
   "pygments_lexer": "ipython3",
   "version": "3.5.2"
  }
 },
 "nbformat": 4,
 "nbformat_minor": 2
}
